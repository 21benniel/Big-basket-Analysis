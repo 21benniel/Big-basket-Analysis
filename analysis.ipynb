{
 "cells": [
  {
   "cell_type": "code",
   "execution_count": 2,
   "metadata": {},
   "outputs": [],
   "source": [
    "from pyspark.sql import SparkSession"
   ]
  },
  {
   "cell_type": "code",
   "execution_count": 3,
   "metadata": {},
   "outputs": [],
   "source": [
    "spark = SparkSession.builder.getOrCreate()"
   ]
  },
  {
   "cell_type": "code",
   "execution_count": 4,
   "metadata": {},
   "outputs": [],
   "source": [
    "df =spark.read.csv('BigBasket_Products.csv',header=True)\n",
    "df.createOrReplaceTempView(\"BigBasket\")\n"
   ]
  },
  {
   "cell_type": "code",
   "execution_count": 5,
   "metadata": {},
   "outputs": [],
   "source": [
    "query=\"select * from BigBasket limit 10\"\n",
    "s=spark.sql(query)"
   ]
  },
  {
   "cell_type": "code",
   "execution_count": 6,
   "metadata": {},
   "outputs": [
    {
     "name": "stdout",
     "output_type": "stream",
     "text": [
      "+--------------------+--------------------+--------------------+--------------------+-----------------+--------------------+--------------------+--------------------+--------------------+--------------------+\n",
      "|               index|             product|            category|        sub_category|            brand|          sale_price|        market_price|                type|              rating|         description|\n",
      "+--------------------+--------------------+--------------------+--------------------+-----------------+--------------------+--------------------+--------------------+--------------------+--------------------+\n",
      "|                   1|Garlic Oil - Vege...|    Beauty & Hygiene|           Hair Care|Sri Sri Ayurveda |                 220|                 220|    Hair Oil & Serum|                 4.1|This Product cont...|\n",
      "|                   2|Water Bottle - Or...|Kitchen, Garden &...|Storage & Accesso...|       Mastercook|                 180|                 180|Water & Fridge Bo...|                 2.3|Each product is m...|\n",
      "|                   3|Brass Angle Deep ...|Cleaning & Household|         Pooja Needs|              Trm|                 119|                 250|     Lamp & Lamp Oil|                 3.4|A perfect gift fo...|\n",
      "|                   4|Cereal Flip Lid C...|Cleaning & Household|Bins & Bathroom Ware|           Nakoda|                 149|                 176|Laundry, Storage ...|                 3.7|Multipurpose cont...|\n",
      "|The Nakoda contai...| this container w...| cleaning and mai...|                NULL|             NULL|                NULL|                NULL|                NULL|                NULL|                NULL|\n",
      "|                   5|Creme Soft Soap -...|    Beauty & Hygiene|    Bath & Hand Wash|            Nivea|                 162|                 162|Bathing Bars & Soaps|                 4.4|Nivea Creme Soft ...|\n",
      "|                   6|Germ - Removal Mu...|Cleaning & Household|All Purpose Cleaners|   Nature Protect|                 169|                 199|Disinfectant Spra...|                 3.3|Stay protected fr...|\n",
      "|Wipes made from 1...| our on-the-go hy...|      but human skin| so you can disin...|           elbows| or wrists – as w...| both inside and ...|        easy removal| these on-the-go ...|                NULL|\n",
      "|^ As per lab test...|                NULL|                NULL|                NULL|             NULL|                NULL|                NULL|                NULL|                NULL|                NULL|\n",
      "|                   7|        Multani Mati|    Beauty & Hygiene|           Skin Care|        Satinance|                  58|                  58|           Face Care|                 3.6|Satinance multani...|\n",
      "+--------------------+--------------------+--------------------+--------------------+-----------------+--------------------+--------------------+--------------------+--------------------+--------------------+\n",
      "\n"
     ]
    }
   ],
   "source": [
    "s.show()"
   ]
  },
  {
   "cell_type": "code",
   "execution_count": 10,
   "metadata": {},
   "outputs": [],
   "source": [
    "#fetch max number of products\n",
    "query = \" select category, count(category) as count from BigBasket group by category order by count desc \"\n",
    "s=spark.sql(query)"
   ]
  },
  {
   "cell_type": "code",
   "execution_count": 11,
   "metadata": {},
   "outputs": [
    {
     "name": "stdout",
     "output_type": "stream",
     "text": [
      "+--------------------+-----+\n",
      "|            category|count|\n",
      "+--------------------+-----+\n",
      "|    Beauty & Hygiene| 7867|\n",
      "|Gourmet & World Food| 4689|\n",
      "|Kitchen, Garden &...| 3580|\n",
      "|Snacks & Branded ...| 2813|\n",
      "|Foodgrains, Oil &...| 2676|\n",
      "|Cleaning & Household| 2675|\n",
      "|           Beverages|  885|\n",
      "|Bakery, Cakes & D...|  851|\n",
      "|           Baby Care|  610|\n",
      "| Fruits & Vegetables|  557|\n",
      "|   Eggs, Meat & Fish|  350|\n",
      "|            warnings|   32|\n",
      "| or want to help ...|   25|\n",
      "| processed and pa...|   22|\n",
      "| produce & availa...|   22|\n",
      "|     Sweet Pani Puri|   21|\n",
      "|            proteins|   19|\n",
      "|               Soaps|   16|\n",
      "| Ocean Glass Publ...|   16|\n",
      "|  dips and conserves|   16|\n",
      "+--------------------+-----+\n",
      "only showing top 20 rows\n",
      "\n"
     ]
    }
   ],
   "source": [
    "s.show()"
   ]
  },
  {
   "cell_type": "code",
   "execution_count": 14,
   "metadata": {},
   "outputs": [
    {
     "name": "stdout",
     "output_type": "stream",
     "text": [
      "+----------------+-----+\n",
      "|           brand|count|\n",
      "+----------------+-----+\n",
      "|          Fresho|  638|\n",
      "|        bb Royal|  539|\n",
      "|         BB Home|  428|\n",
      "|              DP|  250|\n",
      "|Fresho Signature|  171|\n",
      "|        bb Combo|  168|\n",
      "|            Amul|  153|\n",
      "|         INATUR |  146|\n",
      "|        Himalaya|  141|\n",
      "|           Dabur|  138|\n",
      "|        GoodDiet|  134|\n",
      "|           Cello|  124|\n",
      "|            Nike|  124|\n",
      "|           Iveo |  118|\n",
      "|        BIOTIQUE|  117|\n",
      "|    Aroma Magic |  109|\n",
      "|         Colgate|  107|\n",
      "|  Organic Tattva|  106|\n",
      "|    Loreal Paris|  104|\n",
      "|       Britannia|  104|\n",
      "+----------------+-----+\n",
      "only showing top 20 rows\n",
      "\n"
     ]
    }
   ],
   "source": [
    "#fetch max number of brand\n",
    "query = \" select brand, count(brand) as count from BigBasket group by  brand order by count desc \"\n",
    "s=spark.sql(query)\n",
    "s.show()"
   ]
  },
  {
   "cell_type": "code",
   "execution_count": 31,
   "metadata": {},
   "outputs": [
    {
     "name": "stdout",
     "output_type": "stream",
     "text": [
      "+--------------------+------------------+------------------+------------------+-----+\n",
      "|            category|total_market_price|  total_sale_price|      total_profit|   cc|\n",
      "+--------------------+------------------+------------------+------------------+-----+\n",
      "|    Beauty & Hygiene|3882642.2199999997| 3293749.239999999| 588892.9799999997|no hi|\n",
      "|Kitchen, Garden &...|         2361574.4|1816938.1200000003|         544636.28|no hi|\n",
      "|Gourmet & World Food|1680643.9500000002|1499765.3099999998|180878.64000000004|no hi|\n",
      "|Foodgrains, Oil &...|          615833.0|516916.22999999975| 98916.76999999999|no hi|\n",
      "|Cleaning & Household|         701150.35| 605013.0899999999| 96137.26000000001|no hi|\n",
      "|           Baby Care|          364020.0| 326317.1699999999| 37702.82999999999|no hi|\n",
      "|Snacks & Branded ...|          395971.5|364505.07999999996|          31466.42|no hi|\n",
      "|           Beverages|          240927.0|212186.67000000007|28740.329999999998|no hi|\n",
      "|   Eggs, Meat & Fish|         114042.42|         101114.12|12928.300000000001|no hi|\n",
      "|Bakery, Cakes & D...|          134357.0|         121525.14|          12831.86|no hi|\n",
      "| Fruits & Vegetables|35889.549999999996|28345.360000000004| 7544.190000000001|no hi|\n",
      "| making it a heal...|               0.0|               0.0|               0.0|   Hi|\n",
      "| the ones who are...|               0.0|               0.0|               0.0|   Hi|\n",
      "| protecting you f...|               0.0|               0.0|               0.0|   Hi|\n",
      "| which comprises ...|               0.0|               0.0|               0.0|   Hi|\n",
      "|           furniture|               0.0|               0.0|               0.0|   Hi|\n",
      "|        Bitter Sweet|               0.0|               0.0|               0.0|   Hi|\n",
      "| gaily patterned ...|               0.0|               0.0|               0.0|   Hi|\n",
      "| laptops and tabl...|               0.0|               0.0|               0.0|   Hi|\n",
      "| is the right sol...|               0.0|               0.0|               0.0|   Hi|\n",
      "+--------------------+------------------+------------------+------------------+-----+\n",
      "only showing top 20 rows\n",
      "\n"
     ]
    }
   ],
   "source": [
    "#fetch max number of profit\n",
    "query = \"\"\" SELECT \n",
    "    category, \n",
    "    COALESCE(SUM(market_price), 0) AS total_market_price, \n",
    "    COALESCE(SUM(sale_price), 0) AS total_sale_price, \n",
    "    COALESCE(SUM(market_price - sale_price), 0) AS total_profit,\n",
    "    CASE\n",
    "        WHEN COALESCE(SUM(market_price - sale_price), 0) = 0 THEN 'Hi'\n",
    "        ELSE 'no hi'\n",
    "    END AS cc\n",
    "FROM \n",
    "    BigBasket \n",
    "GROUP BY \n",
    "    category \n",
    "ORDER BY \n",
    "    total_profit DESC;\n",
    "\n",
    "\n",
    "\n",
    " \"\"\"\n",
    "s=spark.sql(query)\n",
    "s.show()"
   ]
  },
  {
   "cell_type": "markdown",
   "metadata": {},
   "source": [
    "The `COALESCE` function in SQL is used to return the first non-null expression among its arguments. It takes multiple arguments and returns the first non-null value from the provided arguments. If all the arguments are null, it returns null.\n",
    "\n",
    "The syntax for the `COALESCE` function is as follows:\n",
    "\n",
    "```sql\n",
    "COALESCE(value1, value2, ..., valueN)\n",
    "```\n",
    "\n",
    "Here, `value1`, `value2`, and so on represent the values that you want to check for null. The function will return the first non-null value from the provided arguments. If all the values are null, it will return null.\n",
    "\n",
    "In the context of your query, `COALESCE` is used to handle cases where the `market_price` or `sale_price` might be `NULL`. By using `COALESCE` with a default value of 0, you ensure that if any of the values are `NULL`, they are treated as 0 during the summation. This prevents any potential errors that might arise from aggregating functions such as `SUM` when dealing with `NULL` values."
   ]
  },
  {
   "cell_type": "code",
   "execution_count": null,
   "metadata": {},
   "outputs": [],
   "source": []
  }
 ],
 "metadata": {
  "kernelspec": {
   "display_name": "Python 3",
   "language": "python",
   "name": "python3"
  },
  "language_info": {
   "codemirror_mode": {
    "name": "ipython",
    "version": 3
   },
   "file_extension": ".py",
   "mimetype": "text/x-python",
   "name": "python",
   "nbconvert_exporter": "python",
   "pygments_lexer": "ipython3",
   "version": "3.9.6"
  }
 },
 "nbformat": 4,
 "nbformat_minor": 2
}
